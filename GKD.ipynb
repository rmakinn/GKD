{
 "cells": [
  {
   "cell_type": "markdown",
   "metadata": {},
   "source": [
    "The Kolkhoze doctrine: ten simple principles that should be scrupulously applied by all members of the workforce\n",
    "==================\n",
    "\n",
    "The kolkhozian doctrine is a quintessential element of programmatical wisdom. For decades, the doctrine has been passed down orally, from generation to generation, among the members of the secret order of kolkhozian programmers. Unfortunately as time passed, the study of the doctrine itself reached an end, and was overshadowed by numerous interpretations and commentaries. We witnessed the emergence of [heretics of a sort](https://twitter.com/sum3rman), who knowingly [distorted](http://devzen.ru/episode-0028/) the doctrine in order to instill fear and doubt within our hearts. Thus, the order sees no other way to protect the truth than to reveal the doctrine with great publicity. Below, we present the most exact approximation of the original doctrine, which we were able to reconstitute from individual fragments, thanks to the work of a few dedciated people.\n",
    "\n",
    "## Rules of the Great Kolkhozian Doctrine (a.k.a. GKD, Kolkhoz Doctrine, Kolkhoz-driven development or simply The Principle)\n",
    "\n",
    "1. The goal of any programmer is to produce a working product and happy users. The users must never suffer (or at least, not more than the usual). If, for example, you rolled out a fix that causes hardship to the user, no matter what the cause is, cancel it and [investigate the problem in a separate branch](http://eax.me/vcs-practice/). The users know nothing of the bad people that are tied up in the development of undocumented features of your marvellous API and the likes. A direct consequence of this rule consists in the fact that any alteration made to the product should not make it worse than it already was up to that point. If it turns out that the product did indeed turn out worse, take back the release and replace it with a previous version.\n",
    "\n"
   ]
  },
  {
   "cell_type": "code",
   "execution_count": null,
   "metadata": {
    "collapsed": true
   },
   "outputs": [],
   "source": []
  }
 ],
 "metadata": {
  "kernelspec": {
   "display_name": "Python 2",
   "language": "python",
   "name": "python2"
  },
  "language_info": {
   "codemirror_mode": {
    "name": "ipython",
    "version": 2
   },
   "file_extension": ".py",
   "mimetype": "text/x-python",
   "name": "python",
   "nbconvert_exporter": "python",
   "pygments_lexer": "ipython2",
   "version": "2.7.10"
  }
 },
 "nbformat": 4,
 "nbformat_minor": 0
}
